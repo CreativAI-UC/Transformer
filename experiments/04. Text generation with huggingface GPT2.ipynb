{
 "cells": [
  {
   "cell_type": "markdown",
   "metadata": {},
   "source": [
    "# Text Generation with GPT2"
   ]
  },
  {
   "cell_type": "code",
   "execution_count": null,
   "metadata": {},
   "outputs": [],
   "source": [
    "from __future__ import print_function\n",
    "\n",
    "import torch\n",
    "from transformers import GPT2Tokenizer, GPT2LMHeadModel\n",
    "\n",
    "device = torch.device(\"cuda\" if torch.cuda.is_available() else \"cpu\")\n",
    "torch.cuda.is_available(), device"
   ]
  },
  {
   "cell_type": "code",
   "execution_count": 90,
   "metadata": {},
   "outputs": [],
   "source": [
    "class GPT2TextWrapper:\n",
    "    \n",
    "    def __init__(self):\n",
    "        self.tokenizer = GPT2Tokenizer.from_pretrained('gpt2')\n",
    "        self.model = GPT2LMHeadModel.from_pretrained('gpt2')\n",
    "        self.model.to(device)\n",
    "\n",
    "    @staticmethod\n",
    "    def adjust_length_to_model(length, max_sequence_length):\n",
    "        if length < 0 and max_sequence_length > 0:\n",
    "            length = max_sequence_length\n",
    "        elif 0 < max_sequence_length < length:\n",
    "            length = max_sequence_length  # No generation bigger than model size\n",
    "        elif length < 0:\n",
    "            length = MAX_LENGTH  # avoid infinite loop\n",
    "        return length\n",
    "\n",
    "    def continue_text(self, text_to_complete, length=20):\n",
    "        encoded_text = self.tokenizer.encode(text_to_complete,\n",
    "                                        add_special_tokens=False,\n",
    "                                        return_tensors=\"pt\",\n",
    "                                        add_space_before_punct_symbol=True\n",
    "                                       )\n",
    "        encoded_text = encoded_text.to(device)\n",
    "\n",
    "        max_length = self.model.config.max_position_embeddings\n",
    "        length = self.adjust_length_to_model(length, max_sequence_length=max_length)\n",
    "\n",
    "        output_sequences = self.model.generate(\n",
    "            input_ids=encoded_text,\n",
    "            max_length=length + len(encoded_text[0]),\n",
    "            temperature=1.0,\n",
    "            top_k=0,\n",
    "            top_p=0.9,\n",
    "            num_return_sequences=1,\n",
    "            repetition_penalty=1.0,\n",
    "            do_sample=True,\n",
    "        )\n",
    "\n",
    "        return self.tokenizer.decode(output_sequences.tolist()[0], clean_up_tokenization_spaces=True)\n"
   ]
  },
  {
   "cell_type": "code",
   "execution_count": 91,
   "metadata": {},
   "outputs": [],
   "source": [
    "wrapper = GPT2TextWrapper()"
   ]
  },
  {
   "cell_type": "code",
   "execution_count": 92,
   "metadata": {},
   "outputs": [
    {
     "name": "stdout",
     "output_type": "stream",
     "text": [
      "GPT2LMHeadModel(\n",
      "  (transformer): GPT2Model(\n",
      "    (wte): Embedding(50257, 768)\n",
      "    (wpe): Embedding(1024, 768)\n",
      "    (drop): Dropout(p=0.1, inplace=False)\n",
      "    (h): ModuleList(\n",
      "      (0): Block(\n",
      "        (ln_1): LayerNorm((768,), eps=1e-05, elementwise_affine=True)\n",
      "        (attn): Attention(\n",
      "          (c_attn): Conv1D()\n",
      "          (c_proj): Conv1D()\n",
      "          (attn_dropout): Dropout(p=0.1, inplace=False)\n",
      "          (resid_dropout): Dropout(p=0.1, inplace=False)\n",
      "        )\n",
      "        (ln_2): LayerNorm((768,), eps=1e-05, elementwise_affine=True)\n",
      "        (mlp): MLP(\n",
      "          (c_fc): Conv1D()\n",
      "          (c_proj): Conv1D()\n",
      "          (dropout): Dropout(p=0.1, inplace=False)\n",
      "        )\n",
      "      )\n",
      "      (1): Block(\n",
      "        (ln_1): LayerNorm((768,), eps=1e-05, elementwise_affine=True)\n",
      "        (attn): Attention(\n",
      "          (c_attn): Conv1D()\n",
      "          (c_proj): Conv1D()\n",
      "          (attn_dropout): Dropout(p=0.1, inplace=False)\n",
      "          (resid_dropout): Dropout(p=0.1, inplace=False)\n",
      "        )\n",
      "        (ln_2): LayerNorm((768,), eps=1e-05, elementwise_affine=True)\n",
      "        (mlp): MLP(\n",
      "          (c_fc): Conv1D()\n",
      "          (c_proj): Conv1D()\n",
      "          (dropout): Dropout(p=0.1, inplace=False)\n",
      "        )\n",
      "      )\n",
      "      (2): Block(\n",
      "        (ln_1): LayerNorm((768,), eps=1e-05, elementwise_affine=True)\n",
      "        (attn): Attention(\n",
      "          (c_attn): Conv1D()\n",
      "          (c_proj): Conv1D()\n",
      "          (attn_dropout): Dropout(p=0.1, inplace=False)\n",
      "          (resid_dropout): Dropout(p=0.1, inplace=False)\n",
      "        )\n",
      "        (ln_2): LayerNorm((768,), eps=1e-05, elementwise_affine=True)\n",
      "        (mlp): MLP(\n",
      "          (c_fc): Conv1D()\n",
      "          (c_proj): Conv1D()\n",
      "          (dropout): Dropout(p=0.1, inplace=False)\n",
      "        )\n",
      "      )\n",
      "      (3): Block(\n",
      "        (ln_1): LayerNorm((768,), eps=1e-05, elementwise_affine=True)\n",
      "        (attn): Attention(\n",
      "          (c_attn): Conv1D()\n",
      "          (c_proj): Conv1D()\n",
      "          (attn_dropout): Dropout(p=0.1, inplace=False)\n",
      "          (resid_dropout): Dropout(p=0.1, inplace=False)\n",
      "        )\n",
      "        (ln_2): LayerNorm((768,), eps=1e-05, elementwise_affine=True)\n",
      "        (mlp): MLP(\n",
      "          (c_fc): Conv1D()\n",
      "          (c_proj): Conv1D()\n",
      "          (dropout): Dropout(p=0.1, inplace=False)\n",
      "        )\n",
      "      )\n",
      "      (4): Block(\n",
      "        (ln_1): LayerNorm((768,), eps=1e-05, elementwise_affine=True)\n",
      "        (attn): Attention(\n",
      "          (c_attn): Conv1D()\n",
      "          (c_proj): Conv1D()\n",
      "          (attn_dropout): Dropout(p=0.1, inplace=False)\n",
      "          (resid_dropout): Dropout(p=0.1, inplace=False)\n",
      "        )\n",
      "        (ln_2): LayerNorm((768,), eps=1e-05, elementwise_affine=True)\n",
      "        (mlp): MLP(\n",
      "          (c_fc): Conv1D()\n",
      "          (c_proj): Conv1D()\n",
      "          (dropout): Dropout(p=0.1, inplace=False)\n",
      "        )\n",
      "      )\n",
      "      (5): Block(\n",
      "        (ln_1): LayerNorm((768,), eps=1e-05, elementwise_affine=True)\n",
      "        (attn): Attention(\n",
      "          (c_attn): Conv1D()\n",
      "          (c_proj): Conv1D()\n",
      "          (attn_dropout): Dropout(p=0.1, inplace=False)\n",
      "          (resid_dropout): Dropout(p=0.1, inplace=False)\n",
      "        )\n",
      "        (ln_2): LayerNorm((768,), eps=1e-05, elementwise_affine=True)\n",
      "        (mlp): MLP(\n",
      "          (c_fc): Conv1D()\n",
      "          (c_proj): Conv1D()\n",
      "          (dropout): Dropout(p=0.1, inplace=False)\n",
      "        )\n",
      "      )\n",
      "      (6): Block(\n",
      "        (ln_1): LayerNorm((768,), eps=1e-05, elementwise_affine=True)\n",
      "        (attn): Attention(\n",
      "          (c_attn): Conv1D()\n",
      "          (c_proj): Conv1D()\n",
      "          (attn_dropout): Dropout(p=0.1, inplace=False)\n",
      "          (resid_dropout): Dropout(p=0.1, inplace=False)\n",
      "        )\n",
      "        (ln_2): LayerNorm((768,), eps=1e-05, elementwise_affine=True)\n",
      "        (mlp): MLP(\n",
      "          (c_fc): Conv1D()\n",
      "          (c_proj): Conv1D()\n",
      "          (dropout): Dropout(p=0.1, inplace=False)\n",
      "        )\n",
      "      )\n",
      "      (7): Block(\n",
      "        (ln_1): LayerNorm((768,), eps=1e-05, elementwise_affine=True)\n",
      "        (attn): Attention(\n",
      "          (c_attn): Conv1D()\n",
      "          (c_proj): Conv1D()\n",
      "          (attn_dropout): Dropout(p=0.1, inplace=False)\n",
      "          (resid_dropout): Dropout(p=0.1, inplace=False)\n",
      "        )\n",
      "        (ln_2): LayerNorm((768,), eps=1e-05, elementwise_affine=True)\n",
      "        (mlp): MLP(\n",
      "          (c_fc): Conv1D()\n",
      "          (c_proj): Conv1D()\n",
      "          (dropout): Dropout(p=0.1, inplace=False)\n",
      "        )\n",
      "      )\n",
      "      (8): Block(\n",
      "        (ln_1): LayerNorm((768,), eps=1e-05, elementwise_affine=True)\n",
      "        (attn): Attention(\n",
      "          (c_attn): Conv1D()\n",
      "          (c_proj): Conv1D()\n",
      "          (attn_dropout): Dropout(p=0.1, inplace=False)\n",
      "          (resid_dropout): Dropout(p=0.1, inplace=False)\n",
      "        )\n",
      "        (ln_2): LayerNorm((768,), eps=1e-05, elementwise_affine=True)\n",
      "        (mlp): MLP(\n",
      "          (c_fc): Conv1D()\n",
      "          (c_proj): Conv1D()\n",
      "          (dropout): Dropout(p=0.1, inplace=False)\n",
      "        )\n",
      "      )\n",
      "      (9): Block(\n",
      "        (ln_1): LayerNorm((768,), eps=1e-05, elementwise_affine=True)\n",
      "        (attn): Attention(\n",
      "          (c_attn): Conv1D()\n",
      "          (c_proj): Conv1D()\n",
      "          (attn_dropout): Dropout(p=0.1, inplace=False)\n",
      "          (resid_dropout): Dropout(p=0.1, inplace=False)\n",
      "        )\n",
      "        (ln_2): LayerNorm((768,), eps=1e-05, elementwise_affine=True)\n",
      "        (mlp): MLP(\n",
      "          (c_fc): Conv1D()\n",
      "          (c_proj): Conv1D()\n",
      "          (dropout): Dropout(p=0.1, inplace=False)\n",
      "        )\n",
      "      )\n",
      "      (10): Block(\n",
      "        (ln_1): LayerNorm((768,), eps=1e-05, elementwise_affine=True)\n",
      "        (attn): Attention(\n",
      "          (c_attn): Conv1D()\n",
      "          (c_proj): Conv1D()\n",
      "          (attn_dropout): Dropout(p=0.1, inplace=False)\n",
      "          (resid_dropout): Dropout(p=0.1, inplace=False)\n",
      "        )\n",
      "        (ln_2): LayerNorm((768,), eps=1e-05, elementwise_affine=True)\n",
      "        (mlp): MLP(\n",
      "          (c_fc): Conv1D()\n",
      "          (c_proj): Conv1D()\n",
      "          (dropout): Dropout(p=0.1, inplace=False)\n",
      "        )\n",
      "      )\n",
      "      (11): Block(\n",
      "        (ln_1): LayerNorm((768,), eps=1e-05, elementwise_affine=True)\n",
      "        (attn): Attention(\n",
      "          (c_attn): Conv1D()\n",
      "          (c_proj): Conv1D()\n",
      "          (attn_dropout): Dropout(p=0.1, inplace=False)\n",
      "          (resid_dropout): Dropout(p=0.1, inplace=False)\n",
      "        )\n",
      "        (ln_2): LayerNorm((768,), eps=1e-05, elementwise_affine=True)\n",
      "        (mlp): MLP(\n",
      "          (c_fc): Conv1D()\n",
      "          (c_proj): Conv1D()\n",
      "          (dropout): Dropout(p=0.1, inplace=False)\n",
      "        )\n",
      "      )\n",
      "    )\n",
      "    (ln_f): LayerNorm((768,), eps=1e-05, elementwise_affine=True)\n",
      "  )\n",
      "  (lm_head): Linear(in_features=768, out_features=50257, bias=False)\n",
      ")\n"
     ]
    }
   ],
   "source": [
    "print(wrapper.model)"
   ]
  },
  {
   "cell_type": "code",
   "execution_count": 93,
   "metadata": {
    "scrolled": false
   },
   "outputs": [
    {
     "name": "stderr",
     "output_type": "stream",
     "text": [
      "Setting `pad_token_id` to 50256 (first `eos_token_id`) to generate sequence\n"
     ]
    },
    {
     "data": {
      "text/plain": [
       "\"Hello world of games, each fight is a bit different. I got inspired by games like Tekken, Rims or Portal, where you use your weapon to heal your character, at least temporarily. Which one will you pick is always up to you. There are also some settings that affect your skill bonuses, which are something like fast attacks against enemies which sometimes never actually occurs but which I like and want to avoid by giving every other character some sort of set bonus.\\n\\nThe third option was experimenting with Borderlands 3's Arena. It took me about ten minutes or so to build an optimized one that dealt with that kind of burst where your character is in full strength, playing as the enemies after each turn as you approach them, and which, you know, he's barely fighting, until you actually manage to dodge the hell out of them. If I'd have gotten it done in eight seconds or less. I suppose what I hate about Borderlands, which is everything is boring, but once you figure out the game, is constantly satisfying and challenging.\\n\\nAnd the way I feel about this the game and its Community in general. The current incarnation of Community is in a major rewrite, so if you missed it live on Vita, your lives will be suspended indefinitely while you review as many of these missions as possible. I will give a shout out to all the people at /r/Mafia XIV where I host community team creation. We also play the very best role players, who go to the studio more for the weird and awesome.\\n\\nThis is going to be a very dark, chaotic, and fun thing, as it will be 10 years from now. So I wish there were less wasted missions in the games world. 😀\\n\\nWished you'd shown up not knowing what BOTH of these new iterations are about! But, finally, it's time to review some of the bigger releases so far!\\n\\nGame Summary\\n\\nFor those not already well versed in RPG games such as Skyrim or the Mass Effect series, there is a guide to all of these on the official sourceforge site. People such as IRL Survivor (Ryback) and the Plutonia Forums (Istvan) all take full advantage of this content, so be sure to check out them for more info!\\n\\nFor those of you who were hoping for non-linear gameplay, the can-do group (Mission Challenges) was provided to tell you the story of how this new set of competitive modes came about and a demo of sorts.\\n\\nKellett says it's for sale in Steam. Presumably his team will have their eye on that - don't worry, if you are one of them, you're assured it is exclusive to Steam!\\n\\nAs always, feel free to take some time off after you've downloaded this section for your personal enjoyment, or take a while to read the report (abridged):\\n\\nhttps://steamcommunity.com/sharedfiles/filedetails/?id=2701552375505542\\n\\nIn that time, if you get bored of playing something or missing something on something, and you need help with it, then here is a friendly community about doing it. Though in different worlds (like these worlds that Bungie make to be explored in Episode 2), the game is still in alpha and is only available as part of the beta so we won't update this tutorial either. Remember, you can use services like the Steam Workshop if you want to enjoy the game, but no one is telling you if you need it to work.\\n\\nNote: this guide is one of the two resources featured in Beta II.\\n\\nAfter joining the beta, here's some info on the new storyline and bosses:\\n\\nBack to top\\n\\nSee you all later this week!\\n\\n-Chris from the Gameplay of Kellett's Corner\\n\\n-Ted from the Cave of Sins Forums\\n\\n-Ed from the Megacrawler\\n\\n-R. Ashcraft from the Keeper's Lane\\n\\nThe main and multiplayer servers are hosted here on WePlay. Steam's server is located at. It is meant for multiplayer, the other stuff being a HUD popup when you log in, or on your email account in case you start a new game.\\n\\nAs you might have noticed, Kellett's Corner is a small community. Yes, it is focused on the award winning base game, and occasionally those who can donate will be able to help make this game truly game building. You can email me, or stop by my discord as is and ask me to invite you to join.\\n\\n-BlueSkydiverTeam\\n\\nOn earth, this account has few public relations. Most people are able to approach me on Discord, but there is a small group of people who seem to have more words, blogs, news, etc.\\n\\nWe encourage people to\""
      ]
     },
     "execution_count": 93,
     "metadata": {},
     "output_type": "execute_result"
    }
   ],
   "source": [
    "initial_text = \"Hello world\"\n",
    "wrapper.continue_text(initial_text, length=1000)"
   ]
  },
  {
   "cell_type": "code",
   "execution_count": 101,
   "metadata": {
    "scrolled": false
   },
   "outputs": [
    {
     "name": "stderr",
     "output_type": "stream",
     "text": [
      "Setting `pad_token_id` to 50256 (first `eos_token_id`) to generate sequence\n"
     ]
    },
    {
     "data": {
      "text/plain": [
       "'I like that song that says \"she\\'s not a good leader\" or, \"she might have been around for longer\". But that never actually bothered me. Every single time I sang songs, I always thought that what I was doing was fine. So whenever I sang \"Herd Leader\", it became fun to have fun with the songs, since they all seemed to have this odd personal bond as well, like hard, repetitive songs.\\n\\nIt was very important to understand the myth of leadership and how much that\\'s putting you back in the mindset of the player and your whole team. Most of the time you need to be part of that, because sometimes the idea that the player is in command, that the coach is letting it work out for them, it\\'s not really what you want to be in your job. It\\'s the thing you\\'re used to dealing with the most and your team\\'s challenge to that idea. We also\\'re used to dealing with the players too, but some players\\' personalities change. And so it makes it harder to be part of that situation because the player feels like he needs to be part of that situation because they need a break.\\n\\nThat became a major issue with \"Herd Challenge\" as well. The fans were literally begging for it, just for the thrill and excitement. Just sitting there, standing there and talking to them in their heads. I remember they loved that song, but the songs got so boring. Because they were so upbeat, they just came off as uninteresting, or in a \"bel-behaved look\". And when you get to know the characters from the game you just kind of feel like you\\'re trying to escape the fact that they\\'re working in a weird, cult-like position, like a secure computer facility. So you end up wondering how \"Herd Challenges\" works. And to be honest, that happened quite often in the final games. If there was a rift between them or one of them got bored with the game and started work on the final game, it would just burst out, \"I can\\'t believe that is what he wanted!\" Well it was something that happened a few times. But it was a good thing that that happened, because you didn\\'t see it happening again.\\n\\nYou want to play the game as much as you want to play, you want to play as well as you can. But the way in which the game becomes so exciting and interesting to you is very by-catchy. The game\\'s mechanics are not perfect, but they can work. And at that point there\\'s a lot of ground to cover. There are four weapons and monsters that you can give your character, and they all have different kinds of attack options, and so when you\\'re doing certain things that you don\\'t want to do, it\\'s hard to think why you have to move to other locations or search the various underlying locations. You want to be on a more strategic edge. You don\\'t want to fight blindly against everybody else. In theory, that means doing a lot of running, especially on the way to evade attacks, which often becomes your main primary plan. But the problem comes when you start to give bad opening reactions to certain targets. Which sometimes could be very useful but don\\'t always do anything that you would be able to do before.\\n\\nSo there\\'s a lot of difficulties in how \"Herd Challenge\" works. First off, some of the characters are unlocked and unlocked at the same time. You don\\'t get any cosmetic items. So this really is a new game in terms of its mechanics. I like that the characters are each unlocked at a different time. Now, there\\'s only a limited number of games where you have to give it to someone and it doesn\\'t work out so well. I think that with \"Herd Challenge\", it takes a while for people to figure out what \"Herd Challenges\" is that I want, and not a lot of people give it to them. It\\'s just so far away from the ability to make use of their character to tell players what to do.\\n\\nNext, there\\'s the tutorial. It\\'s totally different than that one you had to put up with, I think. But I feel like there\\'s a lot of fun stuff going on, because it\\'s like \\'Hey, now how do you feel about that thing?\\' You know the deck or the form of the game in general, and you just'"
      ]
     },
     "execution_count": 101,
     "metadata": {},
     "output_type": "execute_result"
    }
   ],
   "source": [
    "wrapper.continue_text(\"I like that song that says\", length=900)"
   ]
  },
  {
   "cell_type": "code",
   "execution_count": null,
   "metadata": {},
   "outputs": [],
   "source": []
  }
 ],
 "metadata": {
  "kernelspec": {
   "display_name": "Python 3",
   "language": "python",
   "name": "python3"
  },
  "language_info": {
   "codemirror_mode": {
    "name": "ipython",
    "version": 3
   },
   "file_extension": ".py",
   "mimetype": "text/x-python",
   "name": "python",
   "nbconvert_exporter": "python",
   "pygments_lexer": "ipython3",
   "version": "3.6.9"
  }
 },
 "nbformat": 4,
 "nbformat_minor": 4
}
